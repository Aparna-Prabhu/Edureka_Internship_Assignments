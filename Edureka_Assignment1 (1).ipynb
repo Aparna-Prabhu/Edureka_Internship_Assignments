{
 "cells": [
  {
   "cell_type": "code",
   "execution_count": 1,
   "id": "d0b7bbf9",
   "metadata": {},
   "outputs": [
    {
     "name": "stdout",
     "output_type": "stream",
     "text": [
      "First_array(M X N):\n",
      " [[0.66746849 0.29573156 0.2450465 ]\n",
      " [0.04705812 0.92739922 0.48671402]\n",
      " [0.21848293 0.51953393 0.95707426]\n",
      " [0.5775262  0.38942162 0.31232334]\n",
      " [0.2000881  0.89675506 0.26957393]]\n",
      "Second_array(N X A):\n",
      " [[0.44104448 0.47090323]\n",
      " [0.86949148 0.20607261]\n",
      " [0.98015814 0.08980091]]\n",
      "Dot_Product:\n",
      " [[0.7917037  0.39726064]\n",
      " [1.30417715 0.25697876]\n",
      " [1.48617514 0.29589217]\n",
      " [0.89943979 0.380255  ]\n",
      " [1.13219372 0.30322677]]\n"
     ]
    }
   ],
   "source": [
    "#Write a Python program to multiply a m x n matrix by n x a matrix and create a real matrix product.\n",
    "import numpy as np\n",
    "arr1 = np.random.random(15).reshape(5,3)\n",
    "print(\"First_array(M X N):\\n\",arr1)\n",
    "arr2 = np.random.random(6).reshape(3,2)\n",
    "print(\"Second_array(N X A):\\n\",arr2)\n",
    "my_array = np.dot(arr1,arr2,out = None)\n",
    "print(\"Dot_Product:\\n\",my_array)"
   ]
  },
  {
   "cell_type": "code",
   "execution_count": 2,
   "id": "8e34e293",
   "metadata": {},
   "outputs": [
    {
     "name": "stdout",
     "output_type": "stream",
     "text": [
      "['Python' 'PHP' 'JS' 'Examples' 'html5' '5']\n",
      "Digits only = [False False False False False  True]\n",
      "Lower cases only = [False False False False  True False]\n",
      "Upper cases only = [False  True  True False False False]\n"
     ]
    }
   ],
   "source": [
    "#Write a NumPy program to check if each element of an array of your choice is composed of digits, \n",
    "#lower case letters, and upper case letters only.\n",
    "import numpy as np\n",
    "array_one = np.array(['Python', 'PHP' ,'JS' ,'Examples', 'html5' ,'5'])\n",
    "print(array_one)\n",
    "Digit = np.char.isdigit(array_one)\n",
    "Lowercase = np.char.islower(array_one)\n",
    "Uppercase = np.char.isupper(array_one)\n",
    "print(\"Digits only =\", Digit)\n",
    "print(\"Lower cases only =\", Lowercase)\n",
    "print(\"Upper cases only =\", Uppercase)\n",
    "    "
   ]
  },
  {
   "cell_type": "code",
   "execution_count": 8,
   "id": "ea4f1d9e",
   "metadata": {},
   "outputs": [
    {
     "name": "stdout",
     "output_type": "stream",
     "text": [
      "Enter first value7\n",
      "Enter second value9\n",
      "7\n",
      "9\n",
      "[1, 8, 15, 22, 29, 36, 43, 50, 57, 64, 71, 78, 85, 92, 99, 106]\n",
      "[1, 10, 19, 28, 37, 46, 55, 64, 73, 82, 91, 100, 109, 118, 127, 136]\n",
      "[  1   8  15  22  29  36  43  50  57  64  71  78  85  92  99 106]\n",
      "[  1  10  19  28  37  46  55  64  73  82  91 100 109 118 127 136]\n",
      "[[  1   8  15  22]\n",
      " [ 29  36  43  50]\n",
      " [ 57  64  71  78]\n",
      " [ 85  92  99 106]]\n",
      "[[  1  10  19  28]\n",
      " [ 37  46  55  64]\n",
      " [ 73  82  91 100]\n",
      " [109 118 127 136]]\n",
      "[[  0  -2  -4  -6]\n",
      " [ -8 -10 -12 -14]\n",
      " [-16 -18 -20 -22]\n",
      " [-24 -26 -28 -30]]\n",
      "[  0  -2  -4  -6  -8 -10 -12 -14 -16 -18 -20 -22 -24 -26 -28 -30]\n"
     ]
    }
   ],
   "source": [
    "\n",
    "#Write a program thatreads two space-separated positive integers X and Y as input and perform the following tasks:\n",
    "import numpy as np\n",
    "import random\n",
    "X = int(input(\"Enter first value\"))\n",
    "Y = int(input(\"Enter second value\"))\n",
    "print (X)\n",
    "print (Y)\n",
    "\n",
    "#Creating 1st list\n",
    "lst1 = []\n",
    "no_of_ele = 16\n",
    "i=1\n",
    "while(no_of_ele!=0):\n",
    "    lst1.append(i)\n",
    "    i+=X\n",
    "    no_of_ele -= 1\n",
    "print(lst1)\n",
    "\n",
    "#Creating 2nd list\n",
    "lst2 = []\n",
    "no_of_ele = 16\n",
    "j=1\n",
    "while(no_of_ele!=0):\n",
    "    lst2.append(j)\n",
    "    j+=Y\n",
    "    no_of_ele -= 1\n",
    "print(lst2)\n",
    "\n",
    "#creating np1 and np2\n",
    "\n",
    "np1 = np.array(lst1)\n",
    "np2 = np.array(lst2)\n",
    "print(np1)\n",
    "print(np2)\n",
    "\n",
    "#reshaping the array\n",
    "np1 = np.array(lst1).reshape(4,4)\n",
    "np2 = np.array(lst2).reshape(4,4)\n",
    "print (np1)\n",
    "print (np2)\n",
    "\n",
    "#creating np3\n",
    "np3 = np1-np2\n",
    "print (np3)\n",
    "\n",
    "#np3 into list elements\n",
    "a = np.reshape(np3,16)\n",
    "final_list = a.tolist()\n",
    "print(a)"
   ]
  },
  {
   "cell_type": "code",
   "execution_count": 16,
   "id": "9f133498",
   "metadata": {},
   "outputs": [
    {
     "name": "stdout",
     "output_type": "stream",
     "text": [
      "[[23 56 87]\n",
      " [ 3  6 96]\n",
      " [ 4  6 78]]\n",
      "[[12 34 54]\n",
      " [ 7  2 54]\n",
      " [ 6  2 78]]\n",
      "[[11 22 33]\n",
      " [-4  4 42]\n",
      " [-2  4  0]]\n"
     ]
    }
   ],
   "source": [
    "#Write a Python program that takes two integer-NumPy arrays, P and Q of shape [3∗3]\n",
    "import numpy as np\n",
    "P = np.array([23, 56 ,87, 3, 6, 96 ,4 ,6, 78]).reshape(3,3)\n",
    "Q = np.array([12, 34, 54, 7, 2, 54, 6, 2 ,78]).reshape(3,3)\n",
    "print(P)\n",
    "print(Q)\n",
    "Z = P - Q\n",
    "print(Z)"
   ]
  },
  {
   "cell_type": "markdown",
   "id": "3051bf30",
   "metadata": {},
   "source": [
    " "
   ]
  }
 ],
 "metadata": {
  "kernelspec": {
   "display_name": "Python 3 (ipykernel)",
   "language": "python",
   "name": "python3"
  },
  "language_info": {
   "codemirror_mode": {
    "name": "ipython",
    "version": 3
   },
   "file_extension": ".py",
   "mimetype": "text/x-python",
   "name": "python",
   "nbconvert_exporter": "python",
   "pygments_lexer": "ipython3",
   "version": "3.9.12"
  }
 },
 "nbformat": 4,
 "nbformat_minor": 5
}
